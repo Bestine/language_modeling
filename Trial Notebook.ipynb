{
 "cells": [
  {
   "cell_type": "markdown",
   "id": "94dc143f",
   "metadata": {},
   "source": [
    "**Load the required packages and data**"
   ]
  },
  {
   "cell_type": "code",
   "execution_count": 1,
   "id": "194f6fc5",
   "metadata": {},
   "outputs": [
    {
     "name": "stderr",
     "output_type": "stream",
     "text": [
      "2023-04-08 08:19:17.213100: W tensorflow/stream_executor/platform/default/dso_loader.cc:64] Could not load dynamic library 'libcudart.so.11.0'; dlerror: libcudart.so.11.0: cannot open shared object file: No such file or directory\n",
      "2023-04-08 08:19:17.213143: I tensorflow/stream_executor/cuda/cudart_stub.cc:29] Ignore above cudart dlerror if you do not have a GPU set up on your machine.\n",
      "2023-04-08 08:19:17.916603: E tensorflow/stream_executor/cuda/cuda_blas.cc:2981] Unable to register cuBLAS factory: Attempting to register factory for plugin cuBLAS when one has already been registered\n",
      "2023-04-08 08:19:36.148680: W tensorflow/stream_executor/platform/default/dso_loader.cc:64] Could not load dynamic library 'libnvinfer.so.7'; dlerror: libnvinfer.so.7: cannot open shared object file: No such file or directory\n",
      "2023-04-08 08:19:36.162780: W tensorflow/stream_executor/platform/default/dso_loader.cc:64] Could not load dynamic library 'libnvinfer_plugin.so.7'; dlerror: libnvinfer_plugin.so.7: cannot open shared object file: No such file or directory\n",
      "2023-04-08 08:19:36.162830: W tensorflow/compiler/tf2tensorrt/utils/py_utils.cc:38] TF-TRT Warning: Cannot dlopen some TensorRT libraries. If you would like to use Nvidia GPU with TensorRT, please make sure the missing libraries mentioned above are installed properly.\n",
      "2023-04-08 08:20:06.660072: W tensorflow/stream_executor/platform/default/dso_loader.cc:64] Could not load dynamic library 'libcuda.so.1'; dlerror: libcuda.so.1: cannot open shared object file: No such file or directory\n",
      "2023-04-08 08:20:06.671989: W tensorflow/stream_executor/cuda/cuda_driver.cc:263] failed call to cuInit: UNKNOWN ERROR (303)\n",
      "2023-04-08 08:20:06.672050: I tensorflow/stream_executor/cuda/cuda_diagnostics.cc:156] kernel driver does not appear to be running on this host (streetanalyst): /proc/driver/nvidia/version does not exist\n"
     ]
    }
   ],
   "source": [
    "# Load the required packages \n",
    "import numpy as np\n",
    "import csv\n",
    "import spacy\n",
    "from collections import Counter\n",
    "import math"
   ]
  },
  {
   "cell_type": "code",
   "execution_count": 2,
   "id": "77ec883f",
   "metadata": {},
   "outputs": [
    {
     "name": "stdout",
     "output_type": "stream",
     "text": [
      "['sentence    structure   direct_object   indirect_object']\n",
      "['The driver gave the bracelet to the grandpa', 'DO', 'bracelet', 'grandpa']\n",
      "['The driver gave the grandpa the bracelet', 'PO', 'bracelet', 'grandpa']\n",
      "['The veteran gave the flag to the uncle', 'DO', 'flag', 'uncle']\n",
      "['The veteran gave the uncle the flag', 'PO', 'flag', 'uncle']\n",
      "['The guy gave the cotton to the soldier', 'DO', 'cotton', 'soldier']\n",
      "['The guy gave the soldier the cotton', 'PO', 'cotton', 'soldier']\n",
      "['The astronaut gave the mustard to the boy', 'DO', 'mustard', 'boy']\n",
      "['The astronaut gave the boy the mustard', 'PO', 'mustard', 'boy']\n",
      "['The referee gave the clarinet to the commander', 'DO', 'clarinet', 'commander']\n",
      "['The referee gave the commander the clarinet', 'PO', 'clarinet', 'commander']\n",
      "['The teenager gave the pliers to the human', 'DO', 'pliers', 'human']\n",
      "['The teenager gave the human the pliers', 'PO', 'pliers', 'human']\n",
      "['The boy gave the loaf to the man', 'DO', 'loaf', 'man']\n",
      "['The boy gave the man the loaf', 'PO', 'loaf', 'man']\n",
      "['The professor gave the mustard to the man', 'DO', 'mustard', 'man']\n",
      "['The professor gave the man the mustard', 'PO', 'mustard', 'man']\n",
      "['The surgeon gave the decoration to the grandpa', 'DO', 'decoration', 'grandpa']\n",
      "['The surgeon gave the grandpa the decoration', 'PO', 'decoration', 'grandpa']\n",
      "['The sheriff gave the map to the referee', 'DO', 'map', 'referee']\n",
      "['The sheriff gave the referee the map', 'PO', 'map', 'referee']\n",
      "['The uncle gave the loaf to the citizen', 'DO', 'loaf', 'citizen']\n",
      "['The uncle gave the citizen the loaf', 'PO', 'loaf', 'citizen']\n",
      "['The student gave the seat to the girlfriend', 'DO', 'seat', 'girlfriend']\n",
      "['The student gave the girlfriend the seat', 'PO', 'seat', 'girlfriend']\n",
      "['The contractor gave the poison to the detective', 'DO', 'poison', 'detective']\n",
      "['The contractor gave the detective the poison', 'PO', 'poison', 'detective']\n",
      "['The salesman gave the loaf to the grandpa', 'DO', 'loaf', 'grandpa']\n",
      "['The salesman gave the grandpa the loaf', 'PO', 'loaf', 'grandpa']\n",
      "['The banker gave the rock to the soldier', 'DO', 'rock', 'soldier']\n",
      "['The banker gave the soldier the rock', 'PO', 'rock', 'soldier']\n",
      "['The engineer gave the sky to the sheriff', 'DO', 'sky', 'sheriff']\n",
      "['The engineer gave the sheriff the sky', 'PO', 'sky', 'sheriff']\n",
      "['The girlfriend gave the sky to the person', 'DO', 'sky', 'person']\n",
      "['The girlfriend gave the person the sky', 'PO', 'sky', 'person']\n",
      "['The mother gave the map to the teenager', 'DO', 'map', 'teenager']\n",
      "['The mother gave the teenager the map', 'PO', 'map', 'teenager']\n",
      "['The preacher gave the flag to the swimmer', 'DO', 'flag', 'swimmer']\n",
      "['The preacher gave the swimmer the flag', 'PO', 'flag', 'swimmer']\n",
      "['The human gave the triangle to the bride', 'DO', 'triangle', 'bride']\n",
      "['The human gave the bride the triangle', 'PO', 'triangle', 'bride']\n",
      "['The commander gave the box to the sheriff', 'DO', 'box', 'sheriff']\n",
      "['The commander gave the sheriff the box', 'PO', 'box', 'sheriff']\n",
      "['The fireman gave the triangle to the astronaut', 'DO', 'triangle', 'astronaut']\n",
      "['The fireman gave the astronaut the triangle', 'PO', 'triangle', 'astronaut']\n",
      "['The sailor gave the pliers to the student', 'DO', 'pliers', 'student']\n",
      "['The sailor gave the student the pliers', 'PO', 'pliers', 'student']\n",
      "['The chief gave the fog to the fireman', 'DO', 'fog', 'fireman']\n",
      "['The chief gave the fireman the fog', 'PO', 'fog', 'fireman']\n",
      "['The girl gave the jug to the surgeon', 'DO', 'jug', 'surgeon']\n",
      "['The girl gave the surgeon the jug', 'PO', 'jug', 'surgeon']\n",
      "['The person gave the clarinet to the man', 'DO', 'clarinet', 'man']\n",
      "['The person gave the man the clarinet', 'PO', 'clarinet', 'man']\n",
      "['The boyfriend gave the bracelet to the banker', 'DO', 'bracelet', 'banker']\n",
      "['The boyfriend gave the banker the bracelet', 'PO', 'bracelet', 'banker']\n",
      "['The technician gave the toast to the principal', 'DO', 'toast', 'principal']\n",
      "['The technician gave the principal the toast', 'PO', 'toast', 'principal']\n",
      "['The grandpa gave the whiskey to the girlfriend', 'DO', 'whiskey', 'girlfriend']\n",
      "['The grandpa gave the girlfriend the whiskey', 'PO', 'whiskey', 'girlfriend']\n",
      "['The sergeant gave the gravel to the commander', 'DO', 'gravel', 'commander']\n",
      "['The sergeant gave the commander the gravel', 'PO', 'gravel', 'commander']\n",
      "['The bride gave the lever to the fireman', 'DO', 'lever', 'fireman']\n",
      "['The bride gave the fireman the lever', 'PO', 'lever', 'fireman']\n",
      "['The soldier gave the sky to the detective', 'DO', 'sky', 'detective']\n",
      "['The soldier gave the detective the sky', 'PO', 'sky', 'detective']\n",
      "['The gal gave the toast to the human', 'DO', 'toast', 'human']\n",
      "['The gal gave the human the toast', 'PO', 'toast', 'human']\n",
      "['The swimmer gave the loaf to the principal', 'DO', 'loaf', 'principal']\n",
      "['The swimmer gave the principal the loaf', 'PO', 'loaf', 'principal']\n",
      "['The principal gave the stone to the boy', 'DO', 'stone', 'boy']\n",
      "['The principal gave the boy the stone', 'PO', 'stone', 'boy']\n",
      "['The officer gave the region to the engineer', 'DO', 'region', 'engineer']\n",
      "['The officer gave the engineer the region', 'PO', 'region', 'engineer']\n",
      "['The citizen gave the region to the surgeon', 'DO', 'region', 'surgeon']\n",
      "['The citizen gave the surgeon the region', 'PO', 'region', 'surgeon']\n",
      "['The detective gave the razor to the surgeon', 'DO', 'razor', 'surgeon']\n",
      "['The detective gave the surgeon the razor', 'PO', 'razor', 'surgeon']\n",
      "['The man gave the spade to the technician', 'DO', 'spade', 'technician']\n",
      "['The man gave the technician the spade', 'PO', 'spade', 'technician']\n",
      "['The sister gave the poison to the engineer', 'DO', 'poison', 'engineer']\n",
      "['The sister gave the engineer the poison', 'PO', 'poison', 'engineer']\n"
     ]
    }
   ],
   "source": [
    "# Load the data \n",
    "with open(\"data/prototyping_sentences.tsv\") as fd:\n",
    "    rd = csv.reader(fd, delimiter=\"\\t\", quotechar='\"')\n",
    "    for row in rd:\n",
    "        print(row)"
   ]
  },
  {
   "cell_type": "markdown",
   "id": "ee4948b5",
   "metadata": {},
   "source": [
    "###########################################################################################################"
   ]
  },
  {
   "cell_type": "code",
   "execution_count": 3,
   "id": "890ff30e",
   "metadata": {},
   "outputs": [],
   "source": [
    "def get_sentence_structure(sentence):\n",
    "    sentence_structure = None\n",
    "    assert sentence_structure in {'DO', 'PO', None}\n",
    "    return sentence_structure"
   ]
  },
  {
   "cell_type": "markdown",
   "id": "1a15afb5",
   "metadata": {},
   "source": [
    "###################################################################################################################"
   ]
  },
  {
   "cell_type": "code",
   "execution_count": 4,
   "id": "def93329",
   "metadata": {},
   "outputs": [],
   "source": [
    "nlp = spacy.load('language_modeling_env/lib/python3.7/site-packages/en_core_web_sm/en_core_web_sm-3.5.0')\n",
    "\n",
    "def classify_sentence_structure(sentence):\n",
    "    doc = nlp(sentence)\n",
    "    for token in doc:\n",
    "        if token.dep_ == 'dobj':\n",
    "            dobj = token\n",
    "            print(dobj)\n",
    "        elif token.dep_ == 'dative':\n",
    "            iobj = token\n",
    "            print(iobj)\n",
    "        elif token.dep_ == 'pobj' and token.head.pos_ == 'ADP':\n",
    "            prep = token.head\n",
    "            pobj = token\n",
    "    if 'dobj' in locals() and 'dative' in locals():\n",
    "        return 'Double Object'\n",
    "    elif 'dobj' in locals() and 'pobj' in locals():\n",
    "        return 'Prepositional Object'\n",
    "    else:\n",
    "        return 'Unknown'"
   ]
  },
  {
   "cell_type": "code",
   "execution_count": 5,
   "id": "2b1b2cab",
   "metadata": {},
   "outputs": [
    {
     "name": "stdout",
     "output_type": "stream",
     "text": [
      "lever\n",
      "to\n"
     ]
    },
    {
     "data": {
      "text/plain": [
       "'Prepositional Object'"
      ]
     },
     "execution_count": 5,
     "metadata": {},
     "output_type": "execute_result"
    }
   ],
   "source": [
    "SENTENCE = 'The bride gave the lever to the fireman'\n",
    "\n",
    "classify_sentence_structure(SENTENCE)"
   ]
  },
  {
   "cell_type": "markdown",
   "id": "d3e109f1",
   "metadata": {},
   "source": [
    "###################################################################################################################"
   ]
  },
  {
   "cell_type": "code",
   "execution_count": 7,
   "id": "2645fcca",
   "metadata": {},
   "outputs": [
    {
     "data": {
      "text/plain": [
       "'\\nThe data scientist hurriedly wrote some code on their Linux workstation to get everything completed before the deadline. \\n'"
      ]
     },
     "execution_count": 7,
     "metadata": {},
     "output_type": "execute_result"
    }
   ],
   "source": [
    "text = \"\"\"\n",
    "The data scientist hurriedly wrote some code on their Linux workstation to get everything completed before the deadline. \n",
    "\"\"\"\n",
    "\n",
    "doc = nlp(text)\n",
    "text"
   ]
  },
  {
   "cell_type": "code",
   "execution_count": 9,
   "id": "5ff80426",
   "metadata": {},
   "outputs": [
    {
     "data": {
      "text/plain": [
       "['dep',\n",
       " 'det',\n",
       " 'compound',\n",
       " 'nsubj',\n",
       " 'advmod',\n",
       " 'ROOT',\n",
       " 'det',\n",
       " 'dobj',\n",
       " 'prep',\n",
       " 'poss',\n",
       " 'compound',\n",
       " 'pobj',\n",
       " 'aux',\n",
       " 'advcl',\n",
       " 'dobj',\n",
       " 'acl',\n",
       " 'prep',\n",
       " 'det',\n",
       " 'pobj',\n",
       " 'punct',\n",
       " 'dep']"
      ]
     },
     "execution_count": 9,
     "metadata": {},
     "output_type": "execute_result"
    }
   ],
   "source": [
    "[token.dep_ for token in doc]"
   ]
  },
  {
   "cell_type": "code",
   "execution_count": 10,
   "id": "8bc7a81c",
   "metadata": {},
   "outputs": [
    {
     "name": "stdout",
     "output_type": "stream",
     "text": [
      "Nouns: ['data', 'scientist', 'code', 'workstation', 'deadline']\n"
     ]
    }
   ],
   "source": [
    "print(\"Nouns:\", [token.lemma_ for token in doc if token.pos_ == \"NOUN\"])"
   ]
  },
  {
   "cell_type": "code",
   "execution_count": 11,
   "id": "0897b591",
   "metadata": {},
   "outputs": [
    {
     "name": "stdout",
     "output_type": "stream",
     "text": [
      "Noun phrases: ['\\nThe data scientist', 'some code', 'their Linux workstation', 'everything', 'the deadline']\n"
     ]
    }
   ],
   "source": [
    "print(\"Noun phrases:\", [chunk.text for chunk in doc.noun_chunks])"
   ]
  },
  {
   "cell_type": "code",
   "execution_count": null,
   "id": "c327b2a2",
   "metadata": {},
   "outputs": [],
   "source": []
  },
  {
   "cell_type": "markdown",
   "id": "7d275be0",
   "metadata": {},
   "source": [
    "###################################################################################################################"
   ]
  },
  {
   "cell_type": "markdown",
   "id": "7a4f75ce",
   "metadata": {},
   "source": [
    "# Task 1"
   ]
  },
  {
   "cell_type": "code",
   "execution_count": 12,
   "id": "d9dbc4ab",
   "metadata": {},
   "outputs": [],
   "source": [
    "def clf_stc(sentence):\n",
    "    doc = nlp(sentence)\n",
    "    #Find the dependency matchers\n",
    "    tokens_matchers = [matchers.dep_ for matchers in doc]\n",
    "    \n",
    "    if 'dative' in tokens_matchers and 'dobj' in tokens_matchers:\n",
    "        # Now check if it is a PO\n",
    "        if 'pobj'in tokens_matchers:\n",
    "            #confirm again \n",
    "            if tokens_matchers.index(\"dobj\") < tokens_matchers.index(\"dative\"):\n",
    "                sentence_structure = \"PO\"\n",
    "        else:\n",
    "            # Check for possible DO\n",
    "            tokens_matchers.index(\"dative\") < tokens_matchers.index(\"dobj\")\n",
    "            sentence_structure = \"DO\"\n",
    "            \n",
    "    else:\n",
    "        sentence_structure =  None\n",
    "        \n",
    "    return sentence_structure"
   ]
  },
  {
   "cell_type": "code",
   "execution_count": 13,
   "id": "59e99684",
   "metadata": {},
   "outputs": [
    {
     "data": {
      "text/plain": [
       "'PO'"
      ]
     },
     "execution_count": 13,
     "metadata": {},
     "output_type": "execute_result"
    }
   ],
   "source": [
    "# testing \n",
    "SENTENCE = 'The bride gave the lever to the fireman'\n",
    "\n",
    "clf_stc(SENTENCE)"
   ]
  },
  {
   "cell_type": "code",
   "execution_count": 14,
   "id": "62064d63",
   "metadata": {},
   "outputs": [],
   "source": [
    "# Extract direct objects \n",
    "def extract_direct_object(sentence):\n",
    "    # split the sentence into list\n",
    "    tokens = sentence.split()\n",
    "    \n",
    "    doc = nlp(sentence)\n",
    "    tokens_matchers = [matchers.dep_ for matchers in doc]\n",
    "    \n",
    "    # get the position of the direct object\n",
    "    dobj_index = tokens_matchers.index(\"dobj\")\n",
    "    # now find the object\n",
    "    direct_object = tokens[dobj_index]\n",
    "    return direct_object"
   ]
  },
  {
   "cell_type": "code",
   "execution_count": 15,
   "id": "e7a979eb",
   "metadata": {},
   "outputs": [
    {
     "data": {
      "text/plain": [
       "'lever'"
      ]
     },
     "execution_count": 15,
     "metadata": {},
     "output_type": "execute_result"
    }
   ],
   "source": [
    "SENTENCE = 'The bride gave the fireman the lever'\n",
    "extract_direct_object(SENTENCE)"
   ]
  },
  {
   "cell_type": "code",
   "execution_count": 17,
   "id": "0010b188",
   "metadata": {},
   "outputs": [],
   "source": [
    "# Extract indirect objects \n",
    "def extract_indirect_object(sentence):\n",
    "    doc = nlp(sentence)\n",
    "    tokens_matchers = [matchers.dep_ for matchers in doc]\n",
    "    \n",
    "    # get the sentence structure\n",
    "    sentence_structure = clf_stc(sentence)\n",
    "    if sentence_structure == 'DO':\n",
    "        indobj_index = tokens_matchers.index('dative')\n",
    "        indirect_object = doc[indobj_index]\n",
    "    elif sentence_structure == 'PO':\n",
    "        indobj_index = tokens_matchers.index('pobj')\n",
    "        indirect_object = doc[indobj_index]\n",
    "    else:\n",
    "        pass\n",
    "\n",
    "    return indirect_object"
   ]
  },
  {
   "cell_type": "code",
   "execution_count": null,
   "id": "8b6336b3",
   "metadata": {},
   "outputs": [],
   "source": []
  },
  {
   "cell_type": "code",
   "execution_count": 11,
   "id": "82e9c11c",
   "metadata": {},
   "outputs": [
    {
     "data": {
      "text/plain": [
       "'DO'"
      ]
     },
     "execution_count": 11,
     "metadata": {},
     "output_type": "execute_result"
    }
   ],
   "source": [
    "clf_stc(\"yeah and she eats people food that's another thing do you do you feed your dog people food or\")"
   ]
  },
  {
   "cell_type": "code",
   "execution_count": 12,
   "id": "58a6f392",
   "metadata": {},
   "outputs": [
    {
     "data": {
      "text/plain": [
       "'food'"
      ]
     },
     "execution_count": 12,
     "metadata": {},
     "output_type": "execute_result"
    }
   ],
   "source": [
    "extract_direct_object(\"yeah and she eats people food that's another thing do you do you feed your dog people food or\")"
   ]
  },
  {
   "cell_type": "code",
   "execution_count": 13,
   "id": "dc0ebfdd",
   "metadata": {},
   "outputs": [
    {
     "data": {
      "text/plain": [
       "people"
      ]
     },
     "execution_count": 13,
     "metadata": {},
     "output_type": "execute_result"
    }
   ],
   "source": [
    "extract_indirect_object(\"yeah and she eats people food that's another thing do you do you feed your dog people food or\")"
   ]
  },
  {
   "cell_type": "code",
   "execution_count": 14,
   "id": "98169888",
   "metadata": {},
   "outputs": [
    {
     "data": {
      "text/plain": [
       "['ROOT',\n",
       " 'cc',\n",
       " 'nsubj',\n",
       " 'ccomp',\n",
       " 'dative',\n",
       " 'dobj',\n",
       " 'nsubj',\n",
       " 'relcl',\n",
       " 'det',\n",
       " 'attr',\n",
       " 'aux',\n",
       " 'nsubj',\n",
       " 'aux',\n",
       " 'nsubj',\n",
       " 'ROOT',\n",
       " 'poss',\n",
       " 'compound',\n",
       " 'dative',\n",
       " 'dobj',\n",
       " 'cc']"
      ]
     },
     "execution_count": 14,
     "metadata": {},
     "output_type": "execute_result"
    }
   ],
   "source": [
    "doc = nlp(\"yeah and she eats people food that's another thing do you do you feed your dog people food or\")\n",
    "tokens = [token.dep_ for token in doc]\n",
    "tokens"
   ]
  },
  {
   "cell_type": "markdown",
   "id": "b1abf056",
   "metadata": {},
   "source": [
    "# Task 2"
   ]
  },
  {
   "cell_type": "code",
   "execution_count": 15,
   "id": "bfbf0301",
   "metadata": {},
   "outputs": [],
   "source": [
    "import nltk"
   ]
  },
  {
   "cell_type": "code",
   "execution_count": 16,
   "id": "ee2899b0",
   "metadata": {},
   "outputs": [],
   "source": [
    "def extract_feature_1(noun_phrase, sentence):\n",
    "    return len(nltk.word_tokenize(noun_phrase))\n",
    "\n"
   ]
  },
  {
   "cell_type": "code",
   "execution_count": 17,
   "id": "ff391560",
   "metadata": {},
   "outputs": [
    {
     "data": {
      "text/plain": [
       "1"
      ]
     },
     "execution_count": 17,
     "metadata": {},
     "output_type": "execute_result"
    }
   ],
   "source": [
    "SENTENCE = \"The bride gave the fireman the lever\"\n",
    "\n",
    "extract_feature_1(\"fireman\", SENTENCE)"
   ]
  },
  {
   "cell_type": "code",
   "execution_count": 18,
   "id": "874ba156",
   "metadata": {},
   "outputs": [],
   "source": [
    "def extract_feature_2(noun_phrase, sentence):\n",
    "    pos_tags = [pos for (word, pos) in nltk.pos_tag(nltk.word_tokenize(noun_phrase))]\n",
    "    return ' '.join(pos_tags)\n",
    "\n"
   ]
  },
  {
   "cell_type": "code",
   "execution_count": 19,
   "id": "34cd1d1e",
   "metadata": {},
   "outputs": [
    {
     "data": {
      "text/plain": [
       "'DT NN'"
      ]
     },
     "execution_count": 19,
     "metadata": {},
     "output_type": "execute_result"
    }
   ],
   "source": [
    "extract_feature_2(\"the fireman\", SENTENCE)"
   ]
  },
  {
   "cell_type": "code",
   "execution_count": 20,
   "id": "59d4dc87",
   "metadata": {},
   "outputs": [],
   "source": [
    "def extract_feature_3(noun_phrase, sentence):\n",
    "    words = nltk.word_tokenize(noun_phrase)\n",
    "    word_freqs = Counter(words)\n",
    "    total_words = len(words)\n",
    "    log_mean_freq = math.log(sum(word_freqs.values()) / total_words)\n",
    "    log_median_freq = math.log(sorted(word_freqs.values())[total_words // 2])\n",
    "    return log_mean_freq\n",
    "\n"
   ]
  },
  {
   "cell_type": "code",
   "execution_count": 21,
   "id": "0f808388",
   "metadata": {},
   "outputs": [
    {
     "data": {
      "text/plain": [
       "0.0"
      ]
     },
     "execution_count": 21,
     "metadata": {},
     "output_type": "execute_result"
    }
   ],
   "source": [
    "extract_feature_3(\"fireman\", SENTENCE)"
   ]
  },
  {
   "cell_type": "code",
   "execution_count": 22,
   "id": "fb885b79",
   "metadata": {},
   "outputs": [],
   "source": [
    "def concatenate_features(features1, features2):\n",
    "    features = [features1, features2]\n",
    "    #for i in range(len(features1)):\n",
    "        #features.append(features1[i] + features2[i])\n",
    "    return features"
   ]
  },
  {
   "cell_type": "code",
   "execution_count": 23,
   "id": "d5b552f9",
   "metadata": {},
   "outputs": [
    {
     "data": {
      "text/plain": [
       "[2, 'DT NN']"
      ]
     },
     "execution_count": 23,
     "metadata": {},
     "output_type": "execute_result"
    }
   ],
   "source": [
    "features1 = extract_feature_1(\"the fireman\", SENTENCE)\n",
    "features2 = extract_feature_2(\"the fireman\", SENTENCE)\n",
    "\n",
    "concatenate_features(features1, features2)"
   ]
  },
  {
   "cell_type": "markdown",
   "id": "880045da",
   "metadata": {},
   "source": [
    "# Task 3"
   ]
  },
  {
   "cell_type": "code",
   "execution_count": 29,
   "id": "52764b36",
   "metadata": {},
   "outputs": [
    {
     "name": "stdout",
     "output_type": "stream",
     "text": [
      "Sentence: This is an example sentence\n",
      "Embedding: [-3.93100172e-01  3.88627388e-02  1.98742402e+00 -1.36893511e-01\n",
      "  1.93089962e-01  3.74967873e-01  1.15455069e-01  3.02821845e-01\n",
      "  2.32356340e-01 -1.23268202e-01 -2.69240737e-01  4.10017759e-01\n",
      " -2.14587912e-01  1.45401850e-01  4.17345434e-01 -2.67233312e-01\n",
      " -2.92259753e-01 -1.81809917e-01  9.90740120e-01 -7.87549138e-01\n",
      " -7.95889422e-02  7.74835706e-01 -3.67454588e-01 -1.04439938e+00\n",
      "  3.26537907e-01 -8.63254726e-01  3.20690483e-01 -1.12830329e+00\n",
      " -4.59388793e-01 -4.49143909e-02  6.30563051e-02 -6.13953233e-01\n",
      "  3.75281990e-01 -1.02702759e-01  8.16331059e-02  2.59928375e-01\n",
      "  4.26196903e-01 -1.09227616e-02  1.49220303e-01  2.61053026e-01\n",
      "  8.91623557e-01 -5.76651037e-01  9.52781141e-01  1.79338083e-01\n",
      " -9.76019919e-01 -6.75556302e-01 -7.54613817e-01  3.20075303e-01\n",
      " -3.51041794e-01 -7.56071448e-01 -1.71005225e+00  3.14682156e-01\n",
      "  3.91978115e-01  7.78529167e-01 -4.78423923e-01  4.90125418e-01\n",
      "  4.12305444e-01 -1.45893705e+00  2.32474804e-01  4.74569589e-01\n",
      "  3.19263458e-01 -4.51485842e-01  5.46336949e-01  8.58702064e-01\n",
      " -6.88960910e-01  1.11390777e-01  3.28972489e-01 -5.71979880e-01\n",
      " -5.76325536e-01  5.69660246e-01  5.40375590e-01 -1.44346818e-01\n",
      " -3.15582693e-01  8.59306037e-01 -1.30414557e+00 -3.12467754e-01\n",
      "  3.94356668e-01  8.62040937e-01  4.59187657e-01  1.36770725e-01\n",
      "  3.20043534e-01  4.86357212e-01  7.52471745e-01  3.88066709e-01\n",
      "  2.61869398e-03  8.53991807e-01  6.97778583e-01  9.31358859e-02\n",
      " -2.17740798e+00  4.10705745e-01 -1.42403441e-02  3.82243872e-01\n",
      " -4.07164916e-02 -3.41985166e-01  1.02726817e+00 -8.69331062e-01\n",
      " -1.31887987e-01  2.72714883e-01  2.87024885e-01 -1.35523543e-01\n",
      "  1.95377558e-01 -1.44740355e+00  1.57659262e-01 -3.17314178e-01\n",
      "  2.84994930e-01  3.37635837e-02  3.58737618e-01 -3.30229670e-01\n",
      " -5.45205951e-01  2.21716631e-02  4.93421942e-01 -3.09390396e-01\n",
      "  7.00727165e-01  4.75137621e-01 -3.68258297e-01  1.17423475e-01\n",
      " -1.13822174e+00  2.62607336e-01 -7.52037019e-02  1.67545998e+00\n",
      " -6.19993031e-01  9.86344755e-01 -1.16219506e-01 -7.62011230e-01\n",
      "  6.72781348e-01  1.70251459e-01  2.41237953e-01  8.85452211e-01\n",
      " -1.16008842e+00 -2.47000054e-01  2.87796408e-01  1.75981283e-01\n",
      "  8.45952809e-01 -3.85922760e-01  8.18306208e-02 -7.60333687e-02\n",
      " -9.31277797e-02 -8.06538761e-01 -5.43145537e-01  8.02639425e-01\n",
      " -6.95222735e-01  3.33849698e-01  4.84592408e-01 -1.03248306e-01\n",
      "  4.58431952e-02 -4.25119549e-01 -1.72408149e-01  8.93827558e-01\n",
      "  1.81811363e-01  5.15258968e-01 -2.13654235e-01  6.10142887e-01\n",
      " -9.66737807e-01 -7.72006869e-01 -8.38091552e-01  8.38489737e-03\n",
      " -4.29019123e-01  4.35300499e-01  2.48540826e-02  1.16513804e-01\n",
      "  4.42571968e-01  1.29215753e+00 -2.65344735e-02 -5.47776781e-02\n",
      "  3.66745181e-02  5.14100725e-03  2.22988844e-01 -6.57810330e-01\n",
      "  2.91545540e-01  2.20952839e-01  9.59336102e-01 -1.25448811e+00\n",
      "  1.42736093e-03  5.49192727e-03  7.26287887e-02 -2.70997882e-01\n",
      "  4.41800326e-01  4.41503733e-01  1.07550907e+00 -9.16385472e-01\n",
      "  1.58000708e-01  6.90247193e-02  5.79548359e-01 -1.39450610e+00\n",
      " -1.01054418e+00 -9.91137147e-01 -1.08697638e-01 -2.06943423e-01\n",
      "  5.95369935e-01  1.05201825e-01  3.86018038e-01 -5.76164663e-01\n",
      " -9.60101262e-02 -1.87252343e+00  8.13936651e-01  6.77986801e-01\n",
      " -3.76401365e-01  6.70403779e-01  1.11280598e-01  1.71524763e-01\n",
      "  1.01204360e+00 -8.99725258e-01  3.67719501e-01 -2.30588406e-01\n",
      "  1.60314873e-01  1.16210806e+00 -6.56948388e-01  7.18659222e-01\n",
      " -1.41506895e-01 -4.43892509e-01 -2.85954714e-01  8.52307439e-01\n",
      "  8.16574216e-01  2.46639863e-01 -2.82257259e-01 -1.06061018e+00\n",
      "  9.14690316e-01 -6.27814651e-01 -8.95522416e-01  3.41823548e-01\n",
      "  4.54073131e-01 -2.55603403e-01  5.45073092e-01  8.27507675e-01\n",
      " -1.02836013e+00 -3.21625054e-01  9.69510138e-01 -5.33146143e-01\n",
      "  5.68103731e-01 -1.59623489e-01  5.83112657e-01  1.02361543e-02\n",
      "  2.87116051e-01  3.06558877e-01 -3.05165071e-02  2.30929069e-02\n",
      "  8.57755467e-02 -1.53076693e-01 -6.02764487e-01  6.48401201e-01\n",
      "  1.40342271e+00  1.32513344e+00 -5.29188991e-01 -3.37110072e-01\n",
      " -1.33864748e+00 -1.03727090e+00  9.93523180e-01  4.16107997e-02\n",
      " -6.26187503e-01  4.46709782e-01 -1.57567188e-01 -9.02673304e-01\n",
      " -2.57909298e-01 -7.48715818e-01 -3.72324079e-01  4.42858726e-01\n",
      " -8.26074600e-01 -2.36568660e-01 -9.26031470e-02 -1.72574833e-01\n",
      " -8.50448191e-01 -6.64393604e-01 -1.13826144e+00 -9.92145613e-02\n",
      "  2.75271147e-01 -4.44757901e-02  7.23189786e-02  3.66551429e-01\n",
      "  1.78148851e-01  4.98811662e-01 -3.34700763e-01 -2.50006337e-02\n",
      " -3.41164880e-02 -4.04074751e-02  1.01210093e+00  1.25182539e-01\n",
      "  8.67056906e-01  9.24196988e-02 -9.76482213e-01  3.79293978e-01\n",
      " -5.73006213e-01 -2.27715969e-01 -2.00726485e+00 -2.98166335e-01\n",
      "  2.65966505e-01 -8.89079392e-01  3.49239796e-01 -6.74781442e-01\n",
      " -6.93199039e-01 -2.36922637e-01 -7.69729555e-01 -2.09066734e-01\n",
      " -4.49624732e-02 -1.08871043e+00  1.02578044e+00  2.77109057e-01\n",
      "  1.01801884e+00  1.00025229e-01 -9.84790802e-01 -2.38191083e-01\n",
      " -4.60626453e-01 -5.17630160e-01 -8.34848762e-01  5.21734059e-02\n",
      "  4.99110281e-01  1.34970859e-01 -2.54827678e-01  3.19201171e-01\n",
      " -1.42486107e+00 -1.02395844e+00 -9.23982501e-01 -1.90496407e-02\n",
      "  2.57459313e-01 -4.13677901e-01 -4.45006825e-02  5.17627239e-01\n",
      " -3.41050811e-02  1.97796479e-01 -2.89103806e-01 -9.99440193e-01\n",
      " -3.55917931e-01  4.92718548e-01  2.95184813e-02  4.76899326e-01\n",
      "  7.30565633e-04  3.24603766e-01 -1.68141872e-01  1.29979503e+00\n",
      "  7.67797306e-02  2.02005386e-01  3.63795072e-01  2.26147458e-01\n",
      " -5.98878920e-01 -9.24430937e-02 -1.13130558e+00  1.85408962e+00\n",
      " -1.76363006e-01 -1.28150642e+00  8.59206617e-01  2.77134478e-01\n",
      "  3.15514296e-01 -4.05188084e-01 -2.26023912e-01  2.42673725e-01\n",
      "  1.51665103e+00 -2.46283084e-01  4.33845669e-01 -1.42071283e+00\n",
      "  2.77231514e-01  1.52045250e-01  6.60116449e-02  1.34195790e-01\n",
      " -4.77179348e-01  3.02473813e-01 -9.31248784e-01 -3.47944766e-01\n",
      "  8.53494287e-01  3.39958131e-01 -5.07612348e-01  7.28307724e-01\n",
      "  3.70812714e-01  5.05655646e-01 -3.44451398e-01  5.79488650e-02\n",
      "  1.42616913e-01 -4.82924461e-01  7.44556725e-01  9.65884253e-02\n",
      "  1.51554525e+00 -5.47410548e-02 -1.39250949e-01 -1.38206661e+00\n",
      " -2.95660764e-01  5.19586615e-02 -2.57895768e-01  6.83638394e-01\n",
      " -6.69607162e-01 -2.42579684e-01  2.49315292e-01 -7.69142359e-02\n",
      "  2.81846941e-01 -1.17519057e+00 -9.54989716e-02 -9.75373626e-01\n",
      "  7.17733264e-01  2.59823889e-01  1.96137175e-01 -5.73397994e-01\n",
      "  5.55816703e-02  5.03942790e-03  6.26437485e-01  1.38612196e-01\n",
      "  9.89746094e-01  4.41577494e-01  3.65134925e-01 -1.45338559e+00\n",
      "  4.65325080e-02  6.08747900e-01 -4.51303214e-01 -1.83927700e-01\n",
      "  1.25764266e-01  9.36344028e-01  3.83245468e-01 -1.44797325e-01\n",
      "  2.86881596e-01 -9.02500927e-01  9.61387515e-01 -2.63206273e-01\n",
      " -4.59450096e-01 -9.06780422e-01 -3.00535690e-02  1.47785917e-01\n",
      " -3.42731625e-01  2.90937684e-02 -1.15606010e+00  8.95176113e-01\n",
      "  4.39629316e-01 -1.32956719e+00  7.24341691e-01  2.59841144e-01\n",
      " -5.29829323e-01 -1.87302455e-01 -3.79404753e-01  7.18500257e-01\n",
      " -1.06727052e+00  5.91974378e-01  4.04233932e-01 -4.26211387e-01\n",
      " -1.49634480e-02 -3.58411878e-01 -4.07944649e-01  1.95548385e-02\n",
      " -1.95997012e+00 -8.81124102e-03 -9.74762887e-02 -6.55434877e-02\n",
      " -2.32723385e-01  8.00042212e-01 -3.56744081e-01 -8.99872333e-02\n",
      "  1.95791692e-01  2.64478058e-01 -3.46013933e-01  1.29480332e-01\n",
      "  4.20879692e-01  6.08390272e-01  3.51760477e-01 -8.26052010e-01\n",
      "  2.40263835e-01 -2.21824646e-01  3.87897104e-01  6.93015039e-01\n",
      " -1.76035333e-02  2.94670880e-01  6.11014962e-02  5.09166062e-01\n",
      " -1.69996992e-01 -6.25153840e-01  7.17223704e-01 -1.51553184e-01\n",
      " -5.38636208e-01 -5.06297588e-01 -5.52803338e-01 -3.45246136e-01\n",
      "  4.36952822e-02  4.96513993e-01 -8.40095997e-01  7.26203144e-01\n",
      "  6.48161411e-01  5.68029821e-01  1.33404657e-01  3.76213342e-01\n",
      " -2.21896455e-01 -4.07298356e-01 -2.01977655e-01  4.72392380e-01\n",
      " -1.41634727e+00  5.01895547e-01  1.58785079e-02  4.88589048e-01\n",
      "  7.14810565e-02  6.44362330e-01  1.28481388e-01  3.29954028e-02\n",
      " -2.43680209e-01  6.96525991e-01  6.63435161e-01  3.03869307e-01\n",
      "  1.22675622e+00  5.17218113e-01 -5.53304195e-01 -5.07781088e-01\n",
      " -1.45795512e+00 -3.91383946e-01 -7.80007020e-02  4.27591890e-01\n",
      " -5.14335752e-01 -2.85024792e-01  1.73659965e-01 -5.65772653e-02\n",
      "  2.11348996e-01  9.30711687e-01 -6.77668452e-01 -6.30488694e-01\n",
      " -1.72003999e-01  2.51008093e-01 -5.97948432e-01  1.50483828e-02\n",
      " -3.25362176e-01  9.00515616e-01 -7.90089786e-01  2.69830495e-01\n",
      " -7.16915131e-01 -3.37903440e-01 -2.26555482e-01 -3.40496123e-01\n",
      "  2.27846741e-03  4.92020547e-01  4.71699059e-01 -8.95782292e-01\n",
      " -2.01765046e-01 -4.58618402e-01 -5.43773808e-02 -1.05116916e+00\n",
      "  7.21238777e-02  5.26399612e-01  1.01929724e+00  1.23541774e-02\n",
      "  1.35750785e-01 -7.01515675e-01  5.59480548e-01  1.01226151e-01\n",
      " -9.29616466e-02  4.94954020e-01  2.20959410e-01  8.33179951e-02\n",
      " -8.58385384e-01 -4.71931785e-01  7.82556415e-01  4.76429850e-01\n",
      "  1.00648975e+00  6.67864203e-01 -2.75778592e-01 -7.11494327e-01\n",
      " -1.17660213e+00  2.43455604e-01  5.68567514e-01 -7.72167087e-01\n",
      "  3.45848650e-01 -6.51077807e-01 -3.66089255e-01 -1.23684680e+00\n",
      " -5.55594504e-01 -8.28860283e-01  2.11318567e-01 -3.40272814e-01\n",
      " -1.11138649e-01  8.77048194e-01  3.82318020e-01  6.65185079e-02\n",
      "  9.44959700e-01 -1.69357628e-01 -3.01937342e-01  6.71966612e-01\n",
      " -5.93401790e-01 -6.02234006e-01 -4.98025835e-01  3.71412754e-01\n",
      "  1.10143375e+00 -2.51218706e-01 -7.42160976e-01  6.06901087e-02\n",
      "  5.26300073e-01  1.26538908e+00 -2.84795403e-01  2.16516718e-01\n",
      "  4.37596947e-01 -3.53979506e-02 -7.30264843e-01 -2.81040162e-01\n",
      "  2.30565712e-01  1.51557374e+00  4.70632702e-01 -7.44833350e-01\n",
      " -3.47283155e-01  9.75388944e-01  2.76930034e-01 -4.74740714e-01\n",
      " -2.70344228e-01  1.55894324e-01  2.71889836e-01 -3.34594697e-01\n",
      "  3.02321404e-01 -4.00339663e-02  4.07371521e-01  7.57053867e-02\n",
      "  2.89601296e-01  5.62770903e-01 -2.22741440e-01  5.50821722e-01\n",
      " -7.54284441e-01 -4.25491005e-01 -9.02854979e-01  9.03654754e-01\n",
      " -5.46136975e-01  4.68127280e-01 -4.56613511e-01 -6.69659749e-02\n",
      " -3.72453690e-01  6.08124733e-01 -2.39425212e-01 -6.96415424e-01\n",
      " -6.23318315e-01  1.11452393e-01  2.99673080e-01 -1.09297955e+00\n",
      " -9.96715426e-01  7.23956168e-01  4.50386733e-01  2.82289237e-01\n",
      "  1.50317699e-03  2.02777043e-01  2.43581012e-01 -3.36096324e-02\n",
      " -4.34318215e-01 -7.59646475e-01 -7.33080180e-03 -1.28487155e-01\n",
      " -3.28199536e-01 -1.05680630e-01  7.76687682e-01  3.69092077e-01\n",
      "  4.57927525e-01  1.06266007e-01 -2.36379504e-01  4.49439198e-01\n",
      " -7.41574943e-01 -2.30177730e-01  6.85007989e-01  1.55965582e-01\n",
      "  6.54862374e-02 -1.18717141e-01  5.24675250e-01 -4.22516197e-01\n",
      " -2.31377512e-01  1.50130868e-01  5.40509045e-01  6.63466990e-01\n",
      "  8.90929639e-01  1.56604782e-01  2.04769596e-01 -1.35198152e+00\n",
      " -9.28958207e-02 -7.48073578e-01  3.69362444e-01  1.59013435e-01\n",
      " -5.43494284e-01  6.17330670e-01  2.57224560e-01 -5.73330343e-01\n",
      "  1.11925328e+00 -5.00800014e-01  1.89481825e-01  1.96831897e-01\n",
      "  1.91659436e-01 -9.10222456e-02  3.49181175e-01  3.08567315e-01\n",
      "  6.62724823e-02 -3.72681528e-01  5.60867727e-01  3.52741666e-02\n",
      " -5.10168076e-02 -9.18253243e-01  1.47790417e-01 -2.42355898e-01\n",
      "  1.46484554e+00 -2.25534979e-02  1.12332761e-01 -4.75057304e-01\n",
      "  4.05582726e-01  5.31459510e-01 -4.55026388e-01 -2.91561596e-02\n",
      " -5.15746891e-01 -1.35292634e-01  3.86687934e-01 -3.69951576e-01\n",
      "  1.30690798e-01  1.82275772e-01  6.57389581e-01  6.84928298e-01\n",
      " -2.88941562e-01 -1.90825117e+00  3.07815850e-01  2.42718086e-01\n",
      " -4.74214822e-01 -2.06289366e-01 -6.50479734e-01 -1.30428195e+00\n",
      " -8.75702322e-01 -4.27875370e-01 -2.72575647e-01 -3.99813056e-04\n",
      " -1.47522688e-01 -6.76686943e-01 -5.82646728e-01 -5.24402261e-02\n",
      " -5.04449904e-01 -5.25957644e-01  8.50012183e-01  1.27721041e-01\n",
      "  6.23144031e-01  5.21232247e-01 -9.16204974e-02  1.22821581e+00\n",
      " -3.73456568e-01 -2.47252181e-01  1.21754706e+00 -5.57261348e-01\n",
      " -5.72597682e-01 -1.62617847e-01 -4.46082205e-01  1.06989312e+00\n",
      " -1.04261592e-01 -2.32035518e-02  3.15746158e-01  6.24185145e-01\n",
      " -5.76883614e-01 -4.49733347e-01  5.21287993e-02  6.17892444e-01\n",
      " -6.35832369e-01  8.55423272e-01  1.50176987e-01  4.73379999e-01\n",
      " -1.35396868e-01 -1.54334068e-01  5.09286225e-01 -2.47422546e-01\n",
      " -7.37196729e-02  1.24412823e+00 -1.67828292e-01 -3.22892934e-01\n",
      " -1.10502517e+00 -2.30854779e-01  7.61029646e-02 -3.02722782e-01\n",
      " -6.20584011e-01  2.79819220e-01  3.34756881e-01  3.52763891e-01\n",
      " -5.99195898e-01 -2.48207822e-01 -5.56217074e-01 -5.13967872e-01\n",
      " -3.26423585e-01 -3.34633887e-01  4.91318882e-01 -5.25093496e-01\n",
      "  3.34850878e-01 -2.90326148e-01 -9.26758647e-01 -2.01028183e-01\n",
      "  1.69322237e-01 -6.09367907e-01 -1.09462094e+00  3.26490641e-01]\n",
      "Sentence: Each sentence is converted to an embedding\n",
      "Embedding: [ 1.81974500e-01  2.30665058e-01  1.59973991e+00  3.59848231e-01\n",
      "  6.80485219e-02  6.66648090e-01  1.63506731e-01  1.53615579e-01\n",
      "  1.95759967e-01 -6.11260593e-01 -1.82390541e-01  3.09780926e-01\n",
      "  3.20281953e-01  6.61404848e-01  3.90948653e-01 -1.87255204e-01\n",
      " -4.73986447e-01 -8.33093971e-02 -1.58061739e-02 -6.11721873e-01\n",
      " -3.22708227e-02  4.32252020e-01 -6.30032599e-01 -4.61337388e-01\n",
      "  3.77460837e-01 -3.95272374e-01  1.70010462e-01 -7.93305039e-01\n",
      " -3.11974317e-01  1.09732054e-01 -3.51513147e-01 -4.93996710e-01\n",
      "  8.86153400e-01 -7.04225779e-01  1.08843204e-02 -1.12124652e-01\n",
      " -1.99164525e-02  1.01908095e-01  1.58364117e-01 -7.73208976e-01\n",
      "  4.78530154e-02 -2.31671855e-01  1.50807485e-01  1.14306189e-01\n",
      " -1.21220732e+00 -4.22026277e-01 -5.00634849e-01 -3.45033139e-01\n",
      " -3.17373544e-01 -4.37334836e-01 -1.16498792e+00 -4.22939658e-01\n",
      "  9.10755217e-01 -4.13198508e-02 -5.05111873e-01  6.19280934e-01\n",
      " -2.82190554e-02 -5.53419650e-01 -3.53677832e-02  4.85021681e-01\n",
      " -2.94799834e-01 -2.89276004e-01  3.71472239e-01  6.17307007e-01\n",
      " -2.44347990e-01 -6.08129725e-02  7.54252195e-01 -1.94491431e-01\n",
      " -7.28711903e-01 -4.85583097e-01  4.89480942e-01 -5.67620873e-01\n",
      "  4.33980078e-01  2.93179482e-01 -5.73302984e-01 -4.72337514e-01\n",
      " -1.01963095e-01  6.43627226e-01  7.22874880e-01  1.48047969e-01\n",
      " -3.60257700e-02  1.19425535e-01  7.88854241e-01 -2.67906696e-01\n",
      "  6.38917744e-01 -3.30275327e-01  7.20597088e-01 -2.07622200e-01\n",
      " -8.89201164e-01  8.49534631e-01 -8.99218302e-03 -3.36374901e-02\n",
      "  6.30643487e-01 -1.71767130e-01  6.24053776e-01 -1.04640007e+00\n",
      " -1.95323184e-01  6.29886240e-02 -2.19091475e-01 -1.90957077e-02\n",
      " -9.65138674e-01  1.94490096e-03 -2.84574091e-01 -1.21476173e-01\n",
      "  1.00654483e-01  2.51338750e-01 -4.43917274e-01 -4.43039775e-01\n",
      "  3.93406898e-01  1.34352986e-02  4.64065850e-01 -1.38264485e-02\n",
      " -1.23983309e-01  4.79516864e-01  3.26581270e-01 -2.96417743e-01\n",
      " -6.75659895e-01  5.38518190e-01  1.93076864e-01  4.34214771e-01\n",
      "  4.23048027e-02  8.39255929e-01  3.78007531e-01 -8.04301679e-01\n",
      "  1.68968484e-01 -6.14107788e-01  6.87836111e-01  1.46349236e-01\n",
      " -1.17858708e+00  5.66207059e-02 -7.83890411e-02  1.36263028e-01\n",
      "  9.46267128e-01 -2.66797423e-01  1.68286473e-01  1.17019489e-01\n",
      "  4.35116798e-01 -1.93572372e-01 -4.26250756e-01  4.80047353e-02\n",
      " -5.19817293e-01  7.72883236e-01  1.30250260e-01 -2.35444546e-01\n",
      " -5.37321091e-01 -4.31534767e-01 -2.97749072e-01 -6.18931115e-01\n",
      " -6.99528158e-01  4.57627952e-01 -2.09329665e-01  1.16499829e+00\n",
      " -9.94191945e-01 -9.57362950e-01 -9.39126909e-01  1.05687588e-01\n",
      " -8.83579671e-01  9.63788033e-01 -1.90275475e-01  1.26993224e-01\n",
      "  4.28606004e-01  9.86966670e-01  8.30470502e-01 -2.35014617e-01\n",
      " -2.40579844e-01 -1.71035752e-01  4.08087641e-01 -1.90688262e-03\n",
      "  2.07411811e-01 -1.02107786e-02  3.30747843e-01  5.98797798e-02\n",
      "  1.41150072e-01  3.87421876e-01 -3.51926029e-01 -3.84330362e-01\n",
      "  7.60764539e-01  1.01675057e+00  3.96555692e-01 -1.36401415e+00\n",
      "  8.06148946e-01  1.52811676e-01 -2.45491162e-01 -4.46938157e-01\n",
      " -1.12494314e+00 -6.90218925e-01  4.73590463e-01 -5.19227266e-01\n",
      "  7.82064497e-01  7.66487718e-01 -2.22991183e-01  1.75478354e-01\n",
      " -2.17057645e-01 -4.36227143e-01  1.88068599e-02  2.15348184e-01\n",
      " -5.74163437e-01  6.95009112e-01  2.79686898e-01  3.37914020e-01\n",
      "  1.21824913e-01 -7.77462006e-01 -1.86737925e-01 -9.57987189e-01\n",
      "  1.04182005e+00  7.32408881e-01 -1.00847518e+00  1.01812863e+00\n",
      " -4.99814063e-01 -2.93565869e-01 -9.24215138e-01  1.25447476e+00\n",
      "  6.71724558e-01  2.72712052e-01  5.86104691e-01 -4.07826543e-01\n",
      "  6.73358560e-01 -1.06408679e+00 -5.30164242e-01 -5.82897127e-01\n",
      "  1.03497827e+00  7.30146072e-04  3.56540620e-01  5.94910681e-01\n",
      " -8.98106515e-01  3.77309531e-01  4.81266886e-01 -2.13603318e-01\n",
      "  1.07216227e+00 -6.29378498e-01  3.66477519e-01 -2.27662213e-02\n",
      " -4.19007778e-01  5.81433773e-01  3.52665931e-01  6.32892549e-02\n",
      " -7.80242309e-02 -2.75795639e-01 -4.51359957e-01  2.67685056e-01\n",
      "  8.72624636e-01  1.11069012e+00  5.09214044e-01 -2.33942211e-01\n",
      " -1.00428641e+00  9.86112356e-02  5.73171198e-01  3.66191655e-01\n",
      " -5.15034974e-01  4.86635298e-01 -3.12478412e-02 -1.07356298e+00\n",
      " -1.37966603e-01 -5.53954065e-01 -3.66645038e-01 -4.22094643e-01\n",
      " -7.03211308e-01 -4.12685871e-02 -2.43956760e-01  4.71523404e-01\n",
      " -2.25565150e-01 -5.07368386e-01 -3.56133163e-01  1.25809103e-01\n",
      " -7.27512911e-02 -2.62713820e-01 -9.12777543e-01  1.22688115e-02\n",
      " -2.21739680e-01  2.70182073e-01 -1.76421076e-01 -3.82881872e-02\n",
      " -5.73392391e-01 -1.30210057e-01  6.61901176e-01 -2.38005415e-01\n",
      "  9.10330236e-01 -6.43522143e-02 -1.21991336e-02 -3.70705426e-02\n",
      " -1.08249104e+00 -5.15827954e-01 -1.14027667e+00  9.74460840e-01\n",
      "  2.41890237e-01 -3.85006219e-01 -5.90770878e-02 -7.93705523e-01\n",
      " -1.37217477e-01  9.26210210e-02  2.68654466e-01  7.41003990e-01\n",
      " -7.25648329e-02 -6.35021448e-01  5.88477552e-01 -2.69205779e-01\n",
      "  3.01059455e-01 -4.39174354e-01 -2.50814080e-01  2.13520288e-01\n",
      " -3.12755257e-01 -2.00693887e-02 -5.95767915e-01 -4.88230027e-02\n",
      " -2.31935114e-01 -4.00753021e-01 -3.41901094e-01 -2.27794535e-02\n",
      " -3.18175673e+00 -9.69454169e-01 -5.18850923e-01 -7.61675313e-02\n",
      "  5.73554754e-01 -6.60056621e-02 -3.58949780e-01  9.28829968e-01\n",
      "  2.17353448e-01  8.52318823e-01 -4.92805392e-01 -7.38904178e-01\n",
      " -3.66229922e-01  6.81248307e-01  8.43581408e-02  2.25119308e-01\n",
      " -1.80797558e-02  6.03661358e-01 -1.21299000e-02  6.42450750e-01\n",
      " -6.32042646e-01 -2.93013841e-01  9.50704575e-01  1.42687261e-01\n",
      " -6.53218985e-01  1.28613159e-01 -6.06122732e-01  8.71647835e-01\n",
      " -3.97443086e-01  2.08993822e-01  4.49270457e-01  1.90897658e-01\n",
      " -2.29865983e-01  6.92962930e-02 -5.06444693e-01 -5.89893579e-01\n",
      "  9.02098417e-01 -8.38241652e-02 -7.91034773e-02 -1.74308693e+00\n",
      "  1.06535003e-01 -1.54128611e-01  2.77743101e-01 -8.46898019e-01\n",
      "  3.10325295e-01  8.66009712e-01 -1.07974601e+00 -6.50897145e-01\n",
      "  4.32767957e-01  2.29348794e-01 -6.30370378e-01 -9.04252678e-02\n",
      "  6.82677031e-01 -6.69517443e-02 -2.17098624e-01  6.14178032e-02\n",
      "  2.93603748e-01 -5.15441522e-02  3.99334788e-01 -6.35465905e-02\n",
      "  5.98337412e-01 -2.47809783e-01  6.14804849e-02 -5.71983755e-01\n",
      "  1.07120663e-01  9.45545826e-03 -9.63115335e-01  1.17435701e-01\n",
      "  2.05409706e-01  2.50185758e-01 -4.97519001e-02 -3.59935313e-01\n",
      " -7.10914880e-02 -9.39301729e-01 -1.69001088e-01 -1.56758993e-03\n",
      "  5.18953800e-01  3.26206177e-01  3.44509274e-01  1.47364080e-01\n",
      "  6.56325072e-02 -6.38074279e-01  9.73577857e-01  9.77936015e-02\n",
      "  5.17387927e-01 -3.17881666e-02 -3.05196643e-01 -1.17573404e+00\n",
      " -7.81390905e-01  5.09915292e-01 -1.65096849e-01  6.06787689e-02\n",
      " -2.92846024e-01 -1.43115381e-02  6.66343451e-01 -6.83415949e-01\n",
      "  1.45144269e-01  2.74165291e-02  6.21927977e-01 -6.77560568e-01\n",
      "  2.18179956e-01 -1.04199302e+00 -1.11038423e+00 -1.46979839e-02\n",
      " -2.12023988e-01  2.04544693e-01 -1.15163314e+00  7.09163904e-01\n",
      "  8.73880327e-01 -4.63503003e-01 -5.32996893e-01  8.32763255e-01\n",
      " -6.42221332e-01 -1.06422770e+00 -5.06742060e-01  5.31000197e-01\n",
      " -8.09411287e-01  1.05136774e-01  3.12324971e-01  2.14202516e-02\n",
      " -5.41013122e-01 -1.02075899e+00 -9.44645822e-01  6.42554238e-02\n",
      " -7.88525999e-01  4.52248365e-01  1.20214450e+00 -2.05062851e-01\n",
      " -4.81590517e-02  2.58206248e-01 -5.42341173e-01 -5.00946760e-01\n",
      " -1.38014078e-01 -4.53481078e-01 -7.29915857e-01 -2.79631495e-01\n",
      " -2.40773872e-01  1.16040063e+00  1.21979162e-01  2.38091618e-01\n",
      "  4.57321942e-01 -4.71983463e-01  3.52254599e-01  6.26836598e-01\n",
      " -3.06137532e-01  6.57462060e-01  1.27658233e-01  3.53298411e-02\n",
      " -6.58138692e-01 -7.35707104e-01  5.25931776e-01 -5.14146268e-01\n",
      " -1.75542489e-01 -1.47077575e-01  5.59879392e-02  1.08362576e-02\n",
      " -5.60206354e-01  5.57272136e-01 -9.34687555e-02 -2.28991341e-02\n",
      "  2.75869131e-01  5.67692578e-01  2.02156648e-01 -8.64995956e-01\n",
      "  1.81222156e-01  5.51052034e-01  2.12572590e-01  4.07804698e-01\n",
      " -5.69235861e-01  6.63178861e-01 -8.13140690e-01  2.45273456e-01\n",
      "  5.14752120e-02  6.44191980e-01  1.07188791e-01  1.12245709e-01\n",
      " -1.55984774e-01  2.09800944e-01  3.82575333e-01  5.18587708e-01\n",
      "  1.24047101e+00  5.36722302e-01 -5.43087572e-02  5.16345054e-02\n",
      " -9.41368341e-01 -5.63220561e-01 -3.66805047e-01  6.68681085e-01\n",
      " -6.72418833e-01  2.66869715e-03  1.77914485e-01  4.84904587e-01\n",
      " -2.79753476e-01  3.74543875e-01 -6.47529423e-01 -2.05921978e-01\n",
      " -5.12852311e-01  1.34201097e+00  2.02295780e-01 -5.27088046e-01\n",
      "  5.67559481e-01  8.58342886e-01 -3.46180171e-01  2.54912168e-01\n",
      "  6.04972064e-01 -4.77688432e-01  1.08104937e-01  3.18743348e-01\n",
      " -6.01863325e-01  1.90793257e-02  8.78795624e-01 -9.26671028e-01\n",
      " -3.23217243e-01 -1.55187383e-01  2.98716903e-01 -1.04745686e+00\n",
      " -1.15704804e-03  1.73694238e-01  1.25873792e+00 -1.05925910e-01\n",
      "  1.51314116e+00  3.03657711e-01  4.39729661e-01  7.03675866e-01\n",
      " -6.13797805e-04  1.90203488e-01  3.94540906e-01  9.82963145e-02\n",
      " -5.66244006e-01 -1.43478081e-01  1.11897159e+00  2.82398403e-01\n",
      "  2.27597669e-01  2.44785011e-01 -1.01988941e-01 -1.27070475e+00\n",
      " -1.41964734e+00 -1.67122945e-01 -1.01065040e-01 -7.24345803e-01\n",
      " -7.20482051e-01 -9.40499663e-01 -5.18153787e-01  1.87831312e-01\n",
      "  1.87188640e-01  3.28529968e-05 -1.39152646e-01 -9.85443294e-01\n",
      " -4.42843914e-01  1.26170886e+00  1.25389859e-01 -1.49086967e-01\n",
      "  7.15011537e-01  7.72046521e-02 -3.42980653e-01  8.53511870e-01\n",
      " -9.98670757e-02  4.73590381e-02  1.16838001e-01  5.00703394e-01\n",
      "  3.04191500e-01 -4.00174521e-02 -5.39375544e-02 -9.16525424e-02\n",
      "  1.11905062e+00  1.47405660e+00 -3.22674125e-01  3.93554308e-02\n",
      "  5.60676791e-02 -4.95343238e-01 -4.75512892e-01 -8.30357820e-02\n",
      " -3.34786206e-01  1.02893782e+00  1.58475474e-01 -2.58976668e-01\n",
      " -2.54839033e-01  4.10498887e-01  5.21531820e-01 -3.06503803e-01\n",
      "  1.19067408e-01 -1.45229280e-01  4.28935647e-01 -2.16572762e-01\n",
      " -2.49742970e-01  5.05515158e-01  2.64831275e-01 -4.50795203e-01\n",
      " -1.26901880e-01  1.35735357e+00  4.43256855e-01  5.91126442e-01\n",
      "  9.72528458e-02 -2.31492713e-01 -8.86368573e-01  7.67693147e-02\n",
      "  3.30721110e-01 -2.55916804e-01  2.52271533e-01  6.69032812e-01\n",
      " -3.03711772e-01  3.22054178e-02  5.82342505e-01 -6.61993086e-01\n",
      " -9.68014635e-03  7.78669491e-02  3.34371299e-01 -1.08613122e+00\n",
      " -4.63844657e-01  4.14054781e-01  1.01148760e+00  3.49154025e-01\n",
      " -6.98825493e-02 -4.71683502e-01 -5.21308064e-01 -7.83177555e-01\n",
      "  8.66169572e-01 -1.13542259e+00  2.16872364e-01 -3.34540933e-01\n",
      " -5.17137289e-01  8.06559205e-01  7.56507337e-01  3.56944203e-01\n",
      " -8.67205203e-01  3.51408452e-01  9.98623669e-02  7.34896064e-01\n",
      " -8.79589796e-01 -5.67757905e-01  5.36715269e-01  3.37060660e-01\n",
      " -7.51812041e-01 -7.34852627e-02  3.65741044e-01 -1.10713899e+00\n",
      " -2.45410134e-03  7.20359087e-01  1.81327891e-02  5.66234529e-01\n",
      "  1.26500297e+00  4.61576954e-02 -1.20368339e-01 -1.14801764e-01\n",
      " -5.24383962e-01 -3.64511222e-01  7.97442257e-01 -1.10501200e-01\n",
      " -2.14675710e-01  7.67311454e-01  4.75554675e-01 -6.64986670e-01\n",
      "  1.10238588e+00 -2.73348927e-01  9.14148092e-02 -3.31496447e-02\n",
      "  1.17916143e+00 -4.30586450e-02  2.26129126e-02 -1.59894511e-01\n",
      "  5.44529408e-02  4.71382365e-02 -4.03563976e-01 -4.93844479e-01\n",
      "  4.94235545e-01 -5.41749001e-01  5.73515773e-01 -3.98535609e-01\n",
      "  1.24014282e+00  5.78192711e-01  4.88537580e-01 -1.02914751e+00\n",
      " -4.51946631e-02 -3.71377438e-01  2.36006260e-01 -3.14304799e-01\n",
      "  1.05657704e-01  2.02010255e-02  4.17367935e-01  3.74462940e-02\n",
      "  5.28298378e-01 -4.04258639e-01  6.68413579e-01  8.11775625e-02\n",
      " -1.38488516e-01 -7.14590192e-01 -8.20448250e-02  5.79925716e-01\n",
      " -3.57937992e-01  7.41200089e-01  3.96681987e-02 -9.99838650e-01\n",
      " -7.53961563e-01 -4.25878614e-02 -5.11250854e-01  5.20648718e-01\n",
      " -5.63129663e-01 -4.51140434e-01 -3.71464044e-01  2.36782730e-01\n",
      " -7.40553617e-01  1.46787792e-01  4.73001182e-01 -7.92889073e-02\n",
      "  5.29869437e-01  6.61733866e-01 -7.47394204e-01  2.57055946e-02\n",
      " -2.84656852e-01  4.15614992e-01  8.25274527e-01 -4.38373208e-01\n",
      " -6.74524963e-01  5.04422903e-01 -8.24719429e-01  2.08140150e-01\n",
      " -1.36943221e-01 -1.00876701e+00  8.38111818e-01  1.55020924e-02\n",
      " -7.82206535e-01 -2.86945850e-01 -6.24688089e-01  7.51501024e-01\n",
      " -2.32725993e-01  3.05467516e-01  4.42417324e-01  3.57041329e-01\n",
      " -4.76897329e-01 -1.34414593e-02 -3.50319684e-01  2.34898627e-02\n",
      "  3.99878800e-01  1.12219855e-01 -1.04790062e-01  1.53383881e-01\n",
      " -9.14918721e-01  3.98084164e-01  5.28592646e-01 -6.92370385e-02\n",
      " -6.50358558e-01  1.29337445e-01 -6.08168729e-03 -2.78687626e-01\n",
      " -2.07008749e-01  2.96280831e-01 -5.11375129e-01  1.15730599e-01\n",
      " -1.05707312e+00 -2.17165709e-01  3.24670345e-01 -3.59670371e-01\n",
      " -1.30217597e-01  5.99653006e-01 -1.74775552e-02 -2.00798035e-01\n",
      "  3.22085395e-02  4.80863079e-02  2.31755272e-01  4.71010983e-01]\n"
     ]
    }
   ],
   "source": [
    "from sentence_transformers import SentenceTransformer\n",
    "\n",
    "# Load a pre-trained model\n",
    "model = SentenceTransformer('bert-base-nli-mean-tokens')\n",
    "\n",
    "# Define a list of sentences\n",
    "sentences = ['This is an example sentence', 'Each sentence is converted to an embedding']\n",
    "\n",
    "# Compute embeddings for all sentences\n",
    "embeddings = model.encode(sentences)\n",
    "\n",
    "# Print the embeddings\n",
    "for sentence, embedding in zip(sentences, embeddings):\n",
    "    print(\"Sentence:\", sentence)\n",
    "    print(\"Embedding:\", embedding)"
   ]
  },
  {
   "cell_type": "code",
   "execution_count": 40,
   "id": "277083a1",
   "metadata": {},
   "outputs": [],
   "source": [
    "import nltk\n",
    "from nltk.corpus import wordnet\n",
    "import random\n",
    "\n",
    "def alter_sentence(sentence):\n",
    "    # Tokenize the sentence\n",
    "    tokens = nltk.word_tokenize(sentence)\n",
    "    \n",
    "    # Get the part of speech of each word in the sentence\n",
    "    pos_tags = nltk.pos_tag(tokens)\n",
    "    \n",
    "    # Choose a random word to replace\n",
    "    word_to_replace = random.choice(pos_tags)[0]\n",
    "    \n",
    "    # Get the synset of the word\n",
    "    synset = wordnet.synsets(word_to_replace)\n",
    "    \n",
    "    # Choose a random synset\n",
    "    random_synset = random.choice(synset)\n",
    "    \n",
    "    # Get a random word from the chosen synset\n",
    "    random_word = random_synset.lemmas()[random.randint(0, len(random_synset.lemmas())-1)].name()\n",
    "    \n",
    "    # Replace the chosen word with the random word\n",
    "    altered_sentence = ' '.join([random_word if word == word_to_replace else word for word in tokens])\n",
    "    \n",
    "    return altered_sentence"
   ]
  },
  {
   "cell_type": "code",
   "execution_count": 41,
   "id": "317391bd",
   "metadata": {},
   "outputs": [
    {
     "name": "stdout",
     "output_type": "stream",
     "text": [
      "Original sentence: The quick brown fox jumps over the lazy guy.\n",
      "Altered sentence: The quick brown fox jumps over the lazy guy .\n"
     ]
    }
   ],
   "source": [
    "# Define the original sentence\n",
    "sentence = \"The quick brown fox jumps over the lazy guy.\"\n",
    "\n",
    "# Produce an altered version of the sentence\n",
    "altered_sentence = alter_sentence(sentence)\n",
    "\n",
    "# Print the original and altered sentences\n",
    "print(\"Original sentence:\", sentence)\n",
    "print(\"Altered sentence:\", altered_sentence)"
   ]
  },
  {
   "cell_type": "code",
   "execution_count": null,
   "id": "7fcc4f3d",
   "metadata": {},
   "outputs": [],
   "source": []
  }
 ],
 "metadata": {
  "kernelspec": {
   "display_name": "Python 3 (ipykernel)",
   "language": "python",
   "name": "python3"
  },
  "language_info": {
   "codemirror_mode": {
    "name": "ipython",
    "version": 3
   },
   "file_extension": ".py",
   "mimetype": "text/x-python",
   "name": "python",
   "nbconvert_exporter": "python",
   "pygments_lexer": "ipython3",
   "version": "3.10.6"
  }
 },
 "nbformat": 4,
 "nbformat_minor": 5
}
